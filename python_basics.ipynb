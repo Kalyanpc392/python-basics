{
  "nbformat": 4,
  "nbformat_minor": 0,
  "metadata": {
    "colab": {
      "provenance": []
    },
    "kernelspec": {
      "name": "python3",
      "display_name": "Python 3"
    },
    "language_info": {
      "name": "python"
    }
  },
  "cells": [
    {
      "cell_type": "markdown",
      "source": [
        "# python basics questions"
      ],
      "metadata": {
        "id": "GbSYhWLHXBR3"
      }
    },
    {
      "cell_type": "markdown",
      "source": [
        "1. What is Python, and why is it popular?\n",
        "- Python is a high-level, easy-to-learn programming language known for its simple syntax and versatility.\n",
        "\n",
        "  Why it's popular:\n",
        "\n",
        "* Easy to read and write\n",
        "* Used in web development, data science, AI, and automation\n",
        "* Large community and library support\n",
        "* Cross-platform compatibility\n",
        "* Adopted by top companies like Google and Netflix\n",
        "\n",
        "2. What is an interpreter in Python?\n",
        "- An interpreter in Python is a program that reads and executes Python code line by line.\n",
        "It translates the high-level Python code into machine code at runtime, allowing you to run scripts without compiling them first.\n",
        "\n",
        "3. What are pre-defined keywords in Python?\n",
        "- Pre-defined keywords in Python are reserved words that have special meaning in the language. They are used to define syntax and structure, and cannot be used as variable names.\n",
        " Examples:\n",
        "if, else, elif  for conditionals\n",
        "for, while  for loops\n",
        "def, class  to define functions and classes\n",
        "True, False, None  special constants\n",
        "import, from  for importing modules\n",
        "try, except, finally  for exception handling\n",
        "\n",
        "4. Can keywords be used as variable names?\n",
        "- No, keywords cannot be used as variable names in Python.\n",
        "They are reserved words that define the language's syntax, so using them as variable names will cause an error.\n",
        "\n",
        "5. What is mutability in Python?\n",
        "- Mutability in Python refers to whether an object's value can be changed after it is created.\n",
        "\n",
        "6. Why are lists mutable, but tuples are immutable?\n",
        "-  Lists are mutable.\n",
        "Lists are meant to store and update a sequence of items.\n",
        "They support operations like append, remove, and change values.\n",
        "Python allows changes to lists for flexibility and performance in dynamic data handling.\n",
        "- Tuples are immutable.\n",
        "Tuples are used to store fixed data that shouldn’t change (e.g., coordinates, config).\n",
        "Making them immutable improves safety and allows:\n",
        "Use as keys in dictionaries.\n",
        "Better memory optimization.\n",
        "More reliable hashing.\n",
        "\n",
        "7. What is the difference between “==” and “is” operators in Python?\n",
        "- '==' checks if values are equal\n",
        "- 'is' checks if both refer to the same object\n",
        "\n",
        "8. What are logical operators in Python?\n",
        "- Logical operators in Python are used to combine conditional statements.\n",
        "- The three main logical operators are:\n",
        "- and — True if both conditions are True\n",
        "- or — True if at least one condition is True\n",
        "- not — Reverses the truth value (True → False, False → True)\n",
        "\n",
        "9. What is type casting in Python?\n",
        "- Type casting in Python is converting a value from one data type to another.\n",
        "- It helps when you need to perform operations between different data types.\n",
        "\n",
        "10. What is the difference between implicit and explicit type casting?\n",
        "- Implicit type casting is when Python automatically converts one data type to another during operations without you doing anything.\n",
        "- Explicit type casting is when you manually convert a value from one data type to another using functions like int() or str().\n",
        "\n",
        "11. What is the purpose of conditional statements in Python?\n",
        "- The purpose of conditional statements in Python is to control the flow of a program by making decisions. They let the program execute different blocks of code based on whether a condition is true or false.\n",
        "\n",
        "12. What is the purpose of conditional statements in Python?\n",
        "- Conditional statements in Python are used to make decisions in a program. They allow the program to execute certain code only if a specified condition is true, enabling different actions based on different situations. This helps control the flow of the program.\n",
        "\n",
        "13. What is the difference between for and while loops?\n",
        "- For loop:\n",
        "Repeats a block of code a specific number of times, usually by iterating over a sequence like a list, string, or range.\n",
        "- While loop:\n",
        "Repeats a block of code as long as a condition is true. It's used when the number of iterations isn't known beforehand.\n",
        "\n",
        "14. Describe a scenario where a while loop is more suitable than a for loop.\n",
        "- A while loop is more suitable than a for loop when you don’t know in advance how many times you need to repeat something — you want to keep looping until a certain condition changes."
      ],
      "metadata": {
        "id": "XL6GjxwzYejd"
      }
    },
    {
      "cell_type": "code",
      "execution_count": 1,
      "metadata": {
        "colab": {
          "base_uri": "https://localhost:8080/"
        },
        "id": "NNRcGCtCW1lb",
        "outputId": "b57159dc-5f4c-4cc7-ec25-bb4570b4a564"
      },
      "outputs": [
        {
          "output_type": "stream",
          "name": "stdout",
          "text": [
            "Hello, World\n"
          ]
        }
      ],
      "source": [
        "# Write a Python program to print \"Hello, World!\n",
        "print(\"Hello, World\")"
      ]
    },
    {
      "cell_type": "code",
      "source": [
        "# Write a Python program that displays your name and age\n",
        "name=\"Kalyankumar\"\n",
        "age=18\n",
        "print(\"MY name is \",name)\n",
        "print(\"My age is \",age)"
      ],
      "metadata": {
        "colab": {
          "base_uri": "https://localhost:8080/"
        },
        "id": "5h9XNvltoLBe",
        "outputId": "ca918f33-1acb-4b70-830d-420c1aaf8664"
      },
      "execution_count": 20,
      "outputs": [
        {
          "output_type": "stream",
          "name": "stdout",
          "text": [
            "MY name is  Kalyankumar\n",
            "My age is  18\n"
          ]
        }
      ]
    },
    {
      "cell_type": "code",
      "source": [
        "# Write code to print all the pre-defined keywords in Python using the keyword library\n",
        "import keyword\n",
        "\n",
        "print(\"Python keywords are:\")\n",
        "print(keyword.kwlist)"
      ],
      "metadata": {
        "colab": {
          "base_uri": "https://localhost:8080/"
        },
        "id": "5AW8Demwp1Mn",
        "outputId": "5d4b8914-a5c8-49cf-af6f-c27d4ffda3ed"
      },
      "execution_count": 5,
      "outputs": [
        {
          "output_type": "stream",
          "name": "stdout",
          "text": [
            "Python keywords are:\n",
            "['False', 'None', 'True', 'and', 'as', 'assert', 'async', 'await', 'break', 'class', 'continue', 'def', 'del', 'elif', 'else', 'except', 'finally', 'for', 'from', 'global', 'if', 'import', 'in', 'is', 'lambda', 'nonlocal', 'not', 'or', 'pass', 'raise', 'return', 'try', 'while', 'with', 'yield']\n"
          ]
        }
      ]
    },
    {
      "cell_type": "code",
      "source": [
        "# Write a program that checks if a given word is a Python keyword.\n",
        "import keyword\n",
        "\n",
        "word = input(\"Enter a word: \")\n",
        "\n",
        "if keyword.iskeyword(word):\n",
        "    print(f\"'{word}' is a Python keyword.\")\n",
        "else:\n",
        "    print(f\"'{word}' is not a Python keyword.\")\n"
      ],
      "metadata": {
        "colab": {
          "base_uri": "https://localhost:8080/"
        },
        "id": "evbvE2scrHhS",
        "outputId": "a04138dd-1f9c-4afe-ebf7-1ccb8f4b0376"
      },
      "execution_count": 7,
      "outputs": [
        {
          "output_type": "stream",
          "name": "stdout",
          "text": [
            "Enter a word: no\n",
            "'no' is not a Python keyword.\n"
          ]
        }
      ]
    },
    {
      "cell_type": "code",
      "source": [
        "''' Create a list and tuple in Python, and demonstrate how attempting to change an element works differently\n",
        "for each.'''\n",
        "# Creating a list and a tuple\n",
        "my_list = [10, 20, 30]\n",
        "my_tuple = (10, 20, 30)\n",
        "\n",
        "# Modifying an element in the list\n",
        "my_list[1] = 200\n",
        "print(\"Modified list:\", my_list)\n",
        "\n",
        "# Attempting to modify an element in the tuple\n",
        "try:\n",
        "    my_tuple[1] = 200\n",
        "except TypeError as e:\n",
        "    print(\"Error with tuple:\", e)\n"
      ],
      "metadata": {
        "colab": {
          "base_uri": "https://localhost:8080/"
        },
        "id": "vLt9xb6Jrj9M",
        "outputId": "c4865dd7-c3d8-4c7f-f3fc-cf7e0c333b44"
      },
      "execution_count": 8,
      "outputs": [
        {
          "output_type": "stream",
          "name": "stdout",
          "text": [
            "Modified list: [10, 200, 30]\n",
            "Error with tuple: 'tuple' object does not support item assignment\n"
          ]
        }
      ]
    },
    {
      "cell_type": "code",
      "source": [
        "# Write a function to demonstrate the behavior of mutable and immutable arguments.\n",
        "def modify_arguments(a, b):\n",
        "    a += 10           # Immutable (int) - change won't reflect outside\n",
        "    b.append(4)       # Mutable (list) - change will reflect outside\n",
        "    print(\"Inside function:\")\n",
        "    print(\"a =\", a)\n",
        "    print(\"b =\", b)\n",
        "\n",
        "# Immutable argument (integer)\n",
        "x = 5\n",
        "\n",
        "# Mutable argument (list)\n",
        "y = [1, 2, 3]\n",
        "\n",
        "modify_arguments(x, y)\n",
        "\n",
        "print(\"Outside function:\")\n",
        "print(\"x =\", x)  # unchanged\n",
        "print(\"y =\", y)  # changed\n"
      ],
      "metadata": {
        "colab": {
          "base_uri": "https://localhost:8080/"
        },
        "id": "epQE0qZ2r_VW",
        "outputId": "c1ae876f-4e72-44a0-f277-90f388f9fa9c"
      },
      "execution_count": 9,
      "outputs": [
        {
          "output_type": "stream",
          "name": "stdout",
          "text": [
            "Inside function:\n",
            "a = 15\n",
            "b = [1, 2, 3, 4]\n",
            "Outside function:\n",
            "x = 5\n",
            "y = [1, 2, 3, 4]\n"
          ]
        }
      ]
    },
    {
      "cell_type": "code",
      "source": [
        "# Write a program that performs basic arithmetic operations on two user-input numbers.\n",
        "\n",
        "# Get input from the user\n",
        "num1 = float(input(\"Enter first number: \"))\n",
        "num2 = float(input(\"Enter second number: \"))\n",
        "\n",
        "# Perform operations\n",
        "addition = num1 + num2\n",
        "subtraction = num1 - num2\n",
        "multiplication = num1 * num2\n",
        "\n",
        "# Handle division by zero\n",
        "if num2 != 0:\n",
        "    division = num1 / num2\n",
        "else:\n",
        "    division = \"Undefined (division by zero)\"\n",
        "\n",
        "# Display results\n",
        "print(\"Addition:\", addition)\n",
        "print(\"Subtraction:\", subtraction)\n",
        "print(\"Multiplication:\", multiplication)\n",
        "print(\"Division:\", division)\n"
      ],
      "metadata": {
        "colab": {
          "base_uri": "https://localhost:8080/"
        },
        "id": "Jw2Xi4XIsMOX",
        "outputId": "e840c608-9297-406e-969b-eb856747eb33"
      },
      "execution_count": 10,
      "outputs": [
        {
          "output_type": "stream",
          "name": "stdout",
          "text": [
            "Enter first number: 67\n",
            "Enter second number: 7\n",
            "Addition: 74.0\n",
            "Subtraction: 60.0\n",
            "Multiplication: 469.0\n",
            "Division: 9.571428571428571\n"
          ]
        }
      ]
    },
    {
      "cell_type": "code",
      "source": [
        "# . Write a program to demonstrate the use of logical operators.\n",
        "\n",
        "# Input values\n",
        "a = int(input(\"Enter first number: \"))\n",
        "b = int(input(\"Enter second number: \"))\n",
        "\n",
        "# Logical operations\n",
        "print(\"a > 0 and b > 0:\", a > 0 and b > 0)   # True if both are positive\n",
        "print(\"a > 0 or b > 0:\", a > 0 or b > 0)     # True if at least one is positive\n",
        "print(\"not(a > 0):\", not(a > 0))             # True if a is not positive\n"
      ],
      "metadata": {
        "colab": {
          "base_uri": "https://localhost:8080/"
        },
        "id": "6tDMzhzFsgiP",
        "outputId": "3c8fe1a6-22f4-426c-ad93-c4070393e0e7"
      },
      "execution_count": 11,
      "outputs": [
        {
          "output_type": "stream",
          "name": "stdout",
          "text": [
            "Enter first number: 6\n",
            "Enter second number: 7\n",
            "a > 0 and b > 0: True\n",
            "a > 0 or b > 0: True\n",
            "not(a > 0): False\n"
          ]
        }
      ]
    },
    {
      "cell_type": "code",
      "source": [
        "# Write a Python program to convert user input from string to integer, float, and boolean types.\n",
        "\n",
        "# Get input from user\n",
        "user_input = input(\"Enter a value: \")\n",
        "\n",
        "# Convert to integer\n",
        "try:\n",
        "    int_value = int(user_input)\n",
        "    print(\"Integer:\", int_value)\n",
        "except ValueError:\n",
        "    print(\"Cannot convert to integer.\")\n",
        "\n",
        "# Convert to float\n",
        "try:\n",
        "    float_value = float(user_input)\n",
        "    print(\"Float:\", float_value)\n",
        "except ValueError:\n",
        "    print(\"Cannot convert to float.\")\n",
        "\n",
        "# Convert to boolean\n",
        "bool_value = bool(user_input)  # Empty string is False, any non-empty is True\n",
        "print(\"Boolean:\", bool_value)\n"
      ],
      "metadata": {
        "colab": {
          "base_uri": "https://localhost:8080/"
        },
        "id": "UHmrT4ces1Ei",
        "outputId": "7b01dd7f-31b4-47a5-a18c-f30fc74ea12b"
      },
      "execution_count": 12,
      "outputs": [
        {
          "output_type": "stream",
          "name": "stdout",
          "text": [
            "Enter a value: 353\n",
            "Integer: 353\n",
            "Float: 353.0\n",
            "Boolean: True\n"
          ]
        }
      ]
    },
    {
      "cell_type": "code",
      "source": [
        "# Write code to demonstrate type casting with list elements.\n",
        "\n",
        "# List of strings representing numbers\n",
        "str_list = ['10', '20', '30']\n",
        "\n",
        "# Convert each string to an integer using type casting\n",
        "int_list = [int(item) for item in str_list]\n",
        "\n",
        "# Display the result\n",
        "print(\"Original list (strings):\", str_list)\n",
        "print(\"Converted list (integers):\", int_list)\n"
      ],
      "metadata": {
        "colab": {
          "base_uri": "https://localhost:8080/"
        },
        "id": "9u392_OrtLRc",
        "outputId": "ff37752a-2bf1-4c1b-9316-8955614d6826"
      },
      "execution_count": 13,
      "outputs": [
        {
          "output_type": "stream",
          "name": "stdout",
          "text": [
            "Original list (strings): ['10', '20', '30']\n",
            "Converted list (integers): [10, 20, 30]\n"
          ]
        }
      ]
    },
    {
      "cell_type": "code",
      "source": [
        "# Write a program that checks if a number is positive, negative, or zero.\n",
        "\n",
        "num = float(input(\"Enter a number: \"))\n",
        "\n",
        "if num > 0:\n",
        "    print(\"The number is positive.\")\n",
        "elif num < 0:\n",
        "    print(\"The number is negative.\")\n",
        "else:\n",
        "    print(\"The number is zero.\")\n"
      ],
      "metadata": {
        "colab": {
          "base_uri": "https://localhost:8080/"
        },
        "id": "b17Ay8H0tdmM",
        "outputId": "10251a86-53f0-4fcb-c966-5c5ef0a3adc8"
      },
      "execution_count": 14,
      "outputs": [
        {
          "output_type": "stream",
          "name": "stdout",
          "text": [
            "Enter a number: -8\n",
            "The number is negative.\n"
          ]
        }
      ]
    },
    {
      "cell_type": "code",
      "source": [
        "# Write a for loop to print numbers from 1 to 10.\n",
        "\n",
        "for i in range(1, 11):\n",
        "    print(i)\n"
      ],
      "metadata": {
        "colab": {
          "base_uri": "https://localhost:8080/"
        },
        "id": "IF2krlDRuTPT",
        "outputId": "8d36e95e-ae77-4589-b2c3-1d6c9d55841d"
      },
      "execution_count": 15,
      "outputs": [
        {
          "output_type": "stream",
          "name": "stdout",
          "text": [
            "1\n",
            "2\n",
            "3\n",
            "4\n",
            "5\n",
            "6\n",
            "7\n",
            "8\n",
            "9\n",
            "10\n"
          ]
        }
      ]
    },
    {
      "cell_type": "code",
      "source": [
        "# Write a Python program to find the sum of all even numbers between 1 and 50.\n",
        "\n",
        "total = 0\n",
        "for num in range(2, 51, 2):  # start at 2, go up to 50, step by 2 (even numbers)\n",
        "    total += num\n",
        "\n",
        "print(\"Sum of even numbers between 1 and 50 is:\", total)\n"
      ],
      "metadata": {
        "colab": {
          "base_uri": "https://localhost:8080/"
        },
        "id": "HGAKSpgkugPJ",
        "outputId": "135fe738-7be0-4b19-e3ad-9a4b981e4b54"
      },
      "execution_count": 16,
      "outputs": [
        {
          "output_type": "stream",
          "name": "stdout",
          "text": [
            "Sum of even numbers between 1 and 50 is: 650\n"
          ]
        }
      ]
    },
    {
      "cell_type": "code",
      "source": [
        "# Write a program to reverse a string using a while loop.\n",
        "\n",
        "# Input string from user\n",
        "original_str = input(\"Enter a string: \")\n",
        "\n",
        "reversed_str = \"\"\n",
        "index = len(original_str) - 1\n",
        "\n",
        "while index >= 0:\n",
        "    reversed_str += original_str[index]\n",
        "    index -= 1\n",
        "\n",
        "print(\"Reversed string:\", reversed_str)\n"
      ],
      "metadata": {
        "colab": {
          "base_uri": "https://localhost:8080/"
        },
        "id": "MyOITj1Guvl-",
        "outputId": "ceedcb02-838e-438d-c6ef-e9d7503929cc"
      },
      "execution_count": 17,
      "outputs": [
        {
          "output_type": "stream",
          "name": "stdout",
          "text": [
            "Enter a string: went\n",
            "Reversed string: tnew\n"
          ]
        }
      ]
    },
    {
      "cell_type": "code",
      "source": [
        "# Write a Python program to calculate the factorial of a number provided by the user using a while loop\n",
        "\n",
        "num = int(input(\"Enter a non-negative integer: \"))\n",
        "\n",
        "if num < 0:\n",
        "    print(\"Factorial is not defined for negative numbers.\")\n",
        "else:\n",
        "    factorial = 1\n",
        "    i = 1\n",
        "    while i <= num:\n",
        "        factorial *= i\n",
        "        i += 1\n",
        "    print(f\"Factorial of {num} is {factorial}\")\n"
      ],
      "metadata": {
        "colab": {
          "base_uri": "https://localhost:8080/"
        },
        "id": "KXZIWB_vvDwI",
        "outputId": "c86f55fe-ccb1-4b06-b5de-f2f013721b94"
      },
      "execution_count": 19,
      "outputs": [
        {
          "output_type": "stream",
          "name": "stdout",
          "text": [
            "Enter a non-negative integer: 3\n",
            "Factorial of 3 is 6\n"
          ]
        }
      ]
    }
  ]
}